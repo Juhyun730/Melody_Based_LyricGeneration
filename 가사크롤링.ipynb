{
 "cells": [
  {
   "cell_type": "code",
   "execution_count": 3,
   "metadata": {},
   "outputs": [],
   "source": [
    "import pandas as pd\n",
    "from selenium import webdriver"
   ]
  },
  {
   "cell_type": "code",
   "execution_count": 141,
   "metadata": {},
   "outputs": [
    {
     "name": "stderr",
     "output_type": "stream",
     "text": [
      "c:\\Users\\momo8\\AppData\\Local\\Programs\\Python\\Python37\\lib\\site-packages\\ipykernel_launcher.py:4: DeprecationWarning: executable_path has been deprecated, please pass in a Service object\n",
      "  after removing the cwd from sys.path.\n"
     ]
    }
   ],
   "source": [
    "import time\n",
    "from tqdm.notebook import tqdm\n",
    "path = 'chromedriver.exe'\n",
    "driver = webdriver.Chrome(path)\n",
    "\n",
    "driver.get('https://www.melon.com/')\n",
    "time.sleep(2)"
   ]
  },
  {
   "cell_type": "code",
   "execution_count": 29,
   "metadata": {},
   "outputs": [],
   "source": [
    "from selenium.webdriver.common.by import By\n",
    "from selenium import webdriver\n",
    "from selenium.webdriver.common.action_chains import ActionChains\n",
    "from selenium.webdriver.common.by import By\n",
    "from selenium.webdriver.support.ui import WebDriverWait\n",
    "from selenium.webdriver.support import expected_conditions as EC\n",
    "from selenium.webdriver.common.keys import Keys\n"
   ]
  },
  {
   "cell_type": "code",
   "execution_count": 104,
   "metadata": {},
   "outputs": [
    {
     "name": "stdout",
     "output_type": "stream",
     "text": [
      "['Mc the max - 잠시만안녕', 'Mc the Max - 행복하지말아요', 'mcthemax - 어디에도', 'X Japan - Endless Rain', 'X Japan - X', '린,하동균,이정_내가그댈', '먼데이키즈_가을안부', '바이브 & 윤민서_다시 와주라', '박재범 - CHA CHA CYPHER', '박재범 - WORLDWIDE', '박재범 - 원해', '박정현 - Dance With Me', '박정현 - 꿈에', '박정현 - 나의하루', '박정현 - 미장원에서', '박정현 - 사랑이 올까요', '박정현-꿈에', '박정현_꿈에', '박정현_편지할께요', '박효신_눈의꽃', '박효신_야생화', '박효신_추억은사랑을닮아', '부활_비와당신의이야기', '부활_희야', '브이원_그런가봐요', '솔리드_이밤의끝을잡고', '아이비-보란듯이', '오태호_기억속에멜로디', '유재하_지난날', '윤민수,신용재_인연', '윤종신_좋니', '이문세_사랑이지나가면', '이선희_알고싶어요', '이승환 - 나는 나일 뿐', '이승환 - 내가 바라는 나', '이승환 - 너를 향한 마음', '이승환 - 너의 기억', '이승환 - 눈물로 시를 써도', '이승환 - 다만', '이승환 - 달빛소녀', '이승환 - 사랑 착각 상처', '이승환 - 사랑에 관한 충고', '이승환 - 세상에 뿌려진 사랑만큼', '이승환 - 심장병', '이승환 - 악녀 탄생', '이승환 - 애원', '이승환 - 이 노래', '이승환 - 잃어버린 건 나', '이승환 - 잘못', '이승환 - 화려하지 않은 고백', '이승환 - 환생연', '이승환 - 회상이 지나간 오후', '이승환_가족', '이영현 - 눈 먼 사랑', '이영현 - 사랑은 늘 눈물로만 끝난다', '이용신 - New Future', '이장우 - 내안의 너', '이장우 - 미련한 사랑', '이장우 - 슬픈 이야기', '이장우 - 영원한 약속', '이재훈 - 사랑합니다', '이적 - 다행이다', '이정 - 나를 봐', '이정 - 날 울리지마', '이정 - 돌아와', '이정 - 잔인한 이별', '이정 - 한숨만', '이정 - 혼자서', '이정현 - 너', '이정현 - 미쳐', '이정현 - 바꿔', '이정현 - 평화', '이지(Izi) - 응급실', '이지훈 - 아나요', '이현 - 30분 전', '이현우 - 꿈', '이홍기 - 약속', \"이효리 - Get Ya'\", '이효리 - Hey Mr. Big', '이효리 - Shall We Dance', '이효리 - Toc Toc Toc', '이효리 - Unusua', '이효리 - 괜찮아질까요', '이효리 - 노예', '이효리 - 마지막 인사', '이효리 - 바보처럼', '이효리 - 빨간자동차', '이효리 - 얼음', '이효리 - 이브, 낙원에 잠들다', '이효리 - 잔소리', '이효리 - 훔쳐보기', '이휘재 - Blessing You', '인순이 - 이별 연습', '임재범 - 사랑이라서', '임정희 - 들어요', '임정희 - 이런 사랑 저런 사랑', '임창정 - Love Affair', '임창정 - Summer Dream', '임창정 - 결혼해줘', '임창정 - 나의 연인', '임창정 - 늑대와 함께 춤을', '임창정 - 소주 한잔', '임창정 - 슬픈 연가', '임창정 - 슬픈 연인', '임창정 - 오랜만이야', '임창정 - 혼자만의 이별', '임창정- 11월', '임한별_이별하러가는길', '장나라 - 나도 여자랍니다', '장혜진 - 1994년 어느 늦은 밤', '장혜진,포맨_웃지마울지마', '적재_별보러가자', '전람회_기억의습작', '전진 - 세뇨리따', '정재욱 - 들리나요', '젝스키스 - Smile Again', '젝스키스 - Summer in Love', '젝스키스 - 뫼비우스의 띠', '젝스키스 - 사나이 가는 길', '젝스키스 - 연정', '조관우 - 겨울 이야기', '조성모 - Love Song', '조성모 - 그댈 위한 나의 노래', '조성모 - 다짐', '조성모 - 레테의 강', '조성모 - 마지막 사랑', '조성모 - 사랑...눈물겹다', '조성모 - 이야기', '조성모 - 해와 달', '조성모_가시나무', '조성모_아시나요', '조성민 - 3분 55초간의 고백', '주 - 남자 때문에', '줄리엣 - 미안해', '쥬얼리 - Again', '쥬얼리 - One More Time', '쥬얼리 - Tonight', '쥬얼리- 시간에게', '지누션 - A-Yo!', '지누션 - Gasoline', '지누션 - How Deep Is Your Love', '지누션 - 말해줘', '지누션 - 태권 V', '지아 - 물끄러미', '지오디 - 날 기다려줘', '지오디 - 약속', '지오디 - 어머님께', '지오디 - 촛불하나', '지오디 - 편지', '지오디 - 하늘속으로', '채동하 - 너라서 사랑해', '채연 - My Love', '채연 - 낯설은 거짓말', '채연 - 너 땜에', '채연 - 다가와', '채연 - 둘이서', '채연 - 아련한 기다림', '채연 - 오직 너', '채연 - 욕심쟁이', '채연 - 잊자', '최진이 - 눈부신 날', '최진이 - 사랑하다니', '최혜영_그것은인생', '카니발 - 거위의꿈', '카라 - Pretty Girl', '카라 - Wait', '카라 - Wanna', '케이윌 - 초콜릿', '케이윌- 눈물연못', '케이윌- 왼쪽가슴', '코요테 - Happy Birthday', \"코요테 - I'm Sorry\", '코요테 - 너만이', '코요테 - 넌센스', '코요테 - 비몽', '코요테 - 실연', '코요테 - 악담', '코요테 - 열정', '코요테 - 파란', '코요테- 순정', '쿨(COOL) - 2 Become 1', '쿨(COOL) - 고고씽', '쿨(COOL) - 그녀의 결혼식', '쿨(COOL) - 그대 그리워지는 이밤에', '쿨(COOL) - 그대는 다르겠죠', '쿨(COOL) - 그래서 행복합니다', '쿨(COOL) - 그럴 수 있다면', '환희_Tomorrow']\n"
     ]
    }
   ],
   "source": [
    "import os\n",
    "files_1 = os.listdir('C:/Users/momo8/Downloads/5/5') #내가맡은 음악폴더\n",
    "files_1\n",
    "new_list=[]\n",
    "for i in files_1:\n",
    "    if i[-4:]=='.mp3':\n",
    "        new_list.append(i[:-4])\n",
    "    elif i[-5:]=='.flac':\n",
    "        new_list.append(i[:-5])\n",
    "print(new_list)\n",
    "#l=  \"잠시만안녕 엠씨더맥스\" #제목 가수 띄어서 검색"
   ]
  },
  {
   "cell_type": "code",
   "execution_count": null,
   "metadata": {},
   "outputs": [],
   "source": [
    "# target url\n",
    "url = 'https://www.melon.com/'"
   ]
  },
  {
   "cell_type": "code",
   "execution_count": null,
   "metadata": {},
   "outputs": [],
   "source": [
    "not_find=[]\n",
    "for j in range(87,len(new_list)):\n",
    "    driver = webdriver.Chrome()\n",
    "    # 웹사이트 이동\n",
    "    driver.get(url)\n",
    "    time.sleep(1)\n",
    "    search_box = driver.find_element(By.XPATH, '//*[@id=\"top_search\"]')\n",
    "    #driver.find_element(By.CLASS_NAME,\"ui-autocomplete-input\").click()\n",
    "    ActionChains(driver).send_keys_to_element(search_box, str(new_list[j])).perform() #검색어 입력\n",
    "    driver.find_elements(By.XPATH, '//*[@id=\"gnb\"]/fieldset/button[2]/span')[0].click()\n",
    "    driver.find_elements(By.CLASS_NAME, \"link_tab\")[5].click()\n",
    "    r=driver.find_elements(By.XPATH, '//*[@id=\"pageList\"]/div/ul/li[1]/dl/dd[1]/a')\n",
    "    \n",
    "    if len(r)==0:\n",
    "        driver.find_elements(By.XPATH, '//*[@id=\"gnb\"]/h1/a/img')[0].click() #멜론 메인홈피\n",
    "        not_find.append(j)\n",
    "        continue\n",
    "    else:\n",
    "        driver.find_elements(By.XPATH, '//*[@id=\"pageList\"]/div/ul/li[1]/dl/dd[1]/a')[0].click()\n",
    "        time.sleep(1)\n",
    "        driver.find_elements(By.XPATH,'//*[@id=\"lyricArea\"]/button/i')[0].click()\n",
    "        time.sleep(1)\n",
    "        #driver.find_elements(By.XPATH, '//*[@id=\"lyricArea\"]/button/span')[0].click()\n",
    "        #time.sleep(3)\n",
    "        lyric=driver.find_elements(By.CLASS_NAME, 'lyric.on')\n",
    "        lyric = lyric[0].text\n",
    "        lyric = lyric.replace('\\n', ' ')\n",
    "        q=open('C:/Users/momo8/Downloads/5/가사/'+str(new_list[j])+\".txt\", 'w')\n",
    "        q.write(lyric)   # data를 파일에 쓰기\n",
    "        q.close()\n",
    "        driver.quit()\n",
    "        #time.sleep(1)\n",
    "        #driver.find_elements(By.XPATH, '//*[@id=\"gnb\"]/h1/a/img')[0].click() #멜론 메인홈피"
   ]
  },
  {
   "cell_type": "code",
   "execution_count": 243,
   "metadata": {},
   "outputs": [
    {
     "data": {
      "text/plain": [
       "100"
      ]
     },
     "execution_count": 243,
     "metadata": {},
     "output_type": "execute_result"
    }
   ],
   "source": [
    "j #끊겼다면 변수 j 확인해가면서 해주기"
   ]
  },
  {
   "cell_type": "code",
   "execution_count": 238,
   "metadata": {},
   "outputs": [
    {
     "data": {
      "text/plain": [
       "[72, 81]"
      ]
     },
     "execution_count": 238,
     "metadata": {},
     "output_type": "execute_result"
    }
   ],
   "source": [
    "not_find #크롤링 하지 못했던 노래들(멜론에 없는애들)의 가사들은 직접 하기\n",
    "#19금 노래도 직접하기(특히 박재범 노래)"
   ]
  },
  {
   "cell_type": "code",
   "execution_count": 240,
   "metadata": {},
   "outputs": [
    {
     "name": "stdout",
     "output_type": "stream",
     "text": [
      "이지(Izi) - 응급실\n",
      "이효리 - Unusua\n"
     ]
    }
   ],
   "source": [
    "for k in not_find:\n",
    "    print(new_list[k])"
   ]
  },
  {
   "cell_type": "code",
   "execution_count": null,
   "metadata": {},
   "outputs": [],
   "source": []
  }
 ],
 "metadata": {
  "kernelspec": {
   "display_name": "Python 3",
   "language": "python",
   "name": "python3"
  },
  "language_info": {
   "codemirror_mode": {
    "name": "ipython",
    "version": 3
   },
   "file_extension": ".py",
   "mimetype": "text/x-python",
   "name": "python",
   "nbconvert_exporter": "python",
   "pygments_lexer": "ipython3",
   "version": "3.7.0"
  },
  "orig_nbformat": 4,
  "vscode": {
   "interpreter": {
    "hash": "9e4da2e68e52eaecd09ab559ce3da5a5877c5e2c60ae63dc0cc3d4b3b47ebf09"
   }
  }
 },
 "nbformat": 4,
 "nbformat_minor": 2
}
